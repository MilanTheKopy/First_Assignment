{
 "cells": [
  {
   "cell_type": "markdown",
   "metadata": {},
   "source": [
    "<center>\n",
    "    <img src=\"https://cf-courses-data.s3.us.cloud-object-storage.appdomain.cloud/IBMDeveloperSkillsNetwork-DS0105EN-SkillsNetwork/labs/Module2/images/SN_web_lightmode.png\" width=\"300\" alt=\"cognitiveclass.ai logo\">\n",
    "</center>\n"
   ]
  },
  {
   "cell_type": "markdown",
   "metadata": {},
   "source": [
    "#### Peer-Graded Assignment"
   ]
  },
  {
   "cell_type": "markdown",
   "metadata": {},
   "source": [
    "Hello,\n",
    "let me introduce you to my submission for the first peer-graded assignment for the IBM Data Science Professional Certificate. In the following, I will show what I learned about Jupyter so far."
   ]
  },
  {
   "cell_type": "markdown",
   "metadata": {},
   "source": [
    "Programming languages used for data science are:\n",
    "\n",
    "- Python\n",
    "- R\n",
    "- Julia"
   ]
  },
  {
   "cell_type": "markdown",
   "metadata": {},
   "source": [
    "Libraries used for data science are:\n",
    "\n",
    "- pandas\n",
    "- scikit-learn\n",
    "- numpy"
   ]
  },
  {
   "cell_type": "markdown",
   "metadata": {},
   "source": [
    "Tools used for data science are:\n",
    "\n",
    "| Tool 1 | Tool 2 | Tool 3 |\n",
    "|--------|--------|--------|\n",
    "| JupyterLab | RStudio | mySQL |"
   ]
  },
  {
   "cell_type": "markdown",
   "metadata": {},
   "source": [
    "Arithmetic expressions are:\n",
    "\n",
    "| Operation | Example |\n",
    "|--------|--------|\n",
    "| Addtion | a + b |\n",
    "| Subtraction | a - b |\n",
    "| Multiplication | a · b |\n",
    "| Division | a / b  |"
   ]
  },
  {
   "cell_type": "code",
   "execution_count": null,
   "metadata": {},
   "outputs": [],
   "source": [
    "a = 5\n",
    "b = 3\n",
    "\n",
    "\n",
    "print(\"a: \"+str(a))\n",
    "print(\"b: \"+str(b))\n",
    "\n",
    "sum = a + b\n",
    "print(\"Sum: \"+str(sum))\n",
    "\n",
    "product = a * b\n",
    "print(\"Product: \"+str(product))\n"
   ]
  },
  {
   "cell_type": "code",
   "execution_count": 1,
   "metadata": {},
   "outputs": [],
   "source": [
    "minutes= 160\n",
    "hours = minutes // 60\n",
    "\n",
    "print(str(minutes)+\" minutes is equal to \"+str(hours)+\" hours\")"
   ]
  },
  {
   "cell_type": "markdown",
   "metadata": {},
   "source": [
    "##### The objectives for this submission were the following\n",
    "\n",
    "- Create a markdown cell with the title of the notebook. (1 pt)\n",
    "\n",
    "- Create a markdown cell for an introduction. (1 pt)\n",
    "\n",
    "- Create a markdown cell to list data science languages. (3 pts)\n",
    "\n",
    "- Create a markdown cell to list data science libraries. (3 pts)\n",
    "\n",
    "- Create a markdown cell with a table of Data Science tools. (3 pts)\n",
    "\n",
    "- Create a markdown cell introducing arithmetic expression examples. (1 pt)\n",
    "\n",
    "- Create a code cell to multiply and add numbers. (2 pts)\n",
    "\n",
    "- Create a code cell to convert minutes to hours. (2 pts)\n",
    "\n",
    "- Insert a markdown cell to list Objectives. (3 pts)\n",
    "\n",
    "- Create a markdown cell to indicate the Author’s name. (2 pts)\n",
    "\n",
    "- Share your notebook through GitHub (3 pts)\n",
    "\n",
    "- Take a screenshot of the first page of the notebook. (1 pt)"
   ]
  },
  {
   "cell_type": "markdown",
   "metadata": {},
   "source": [
    "*Author: Milan Kopynske*"
   ]
  },
  {
   "cell_type": "markdown",
   "metadata": {},
   "source": []
  }
 ],
 "metadata": {
  "kernelspec": {
   "display_name": ".venv",
   "language": "python",
   "name": "python3"
  },
  "language_info": {
   "codemirror_mode": {
    "name": "ipython",
    "version": 3
   },
   "file_extension": ".py",
   "mimetype": "text/x-python",
   "name": "python",
   "nbconvert_exporter": "python",
   "pygments_lexer": "ipython3",
   "version": "3.10.13"
  }
 },
 "nbformat": 4,
 "nbformat_minor": 4
}
